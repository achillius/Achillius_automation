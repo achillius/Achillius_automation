{
 "cells": [
  {
   "cell_type": "markdown",
   "metadata": {},
   "source": [
    "### IMPORTS"
   ]
  },
  {
   "cell_type": "code",
   "execution_count": 1,
   "metadata": {},
   "outputs": [],
   "source": [
    "import math\n",
    "import cv2\n",
    "import numpy as np\n",
    "import matplotlib.pyplot as plt\n",
    "angle = []"
   ]
  },
  {
   "cell_type": "markdown",
   "metadata": {},
   "source": [
    "### TO DISPLAY THE IMAGES"
   ]
  },
  {
   "cell_type": "code",
   "execution_count": 2,
   "metadata": {},
   "outputs": [],
   "source": [
    "def display(what, *imgs):\n",
    "    while True:\n",
    "        for i,img in enumerate(imgs):\n",
    "            cv2.imshow('image'+str(i)+\"-------\"+str(what), img)\n",
    "        if cv2.waitKey(1):\n",
    "            break\n",
    "\n",
    "    # cv2.destroyAllWindows()"
   ]
  },
  {
   "cell_type": "markdown",
   "metadata": {},
   "source": [
    "### TO DRAW ON IMAGES"
   ]
  },
  {
   "cell_type": "code",
   "execution_count": 3,
   "metadata": {},
   "outputs": [],
   "source": [
    "def draw(img, *finals):\n",
    "    road = np.zeros([img.shape[0], img.shape[1]], np.uint8)\n",
    "    for final in finals:\n",
    "        for point1, point2 in zip(final, final[1:]):\n",
    "            cv2.line(img, point1, point2, (0,0,255), 3)\n",
    "            cv2.line(road, point1, point2, (255,255,255), 3)\n",
    "    # display(img, road)\n",
    "    return road"
   ]
  },
  {
   "cell_type": "markdown",
   "metadata": {},
   "source": [
    "### REMOVE THE EXTRA POINTS DETECTED ON THE SAME CONE"
   ]
  },
  {
   "cell_type": "code",
   "execution_count": 4,
   "metadata": {},
   "outputs": [],
   "source": [
    "def removeClsPt(new_lst):\n",
    "\n",
    "    X = [x for (x,y) in new_lst]\n",
    "    \n",
    "    pts_dict = dict(new_lst) # converting the points list into dictionary\n",
    "\n",
    "    # collecting the points whose x axis is close by ie < 15 pixels\n",
    "    closeX_pts = [\n",
    "        (X[i], X[i + 1])\n",
    "        for i, _ in enumerate(X)\n",
    "        if i != len(X) - 1 and X[i + 1] - X[i] <= 15\n",
    "    ]\n",
    "\n",
    "\n",
    "    closeX_pts = list({item for t in closeX_pts for item in t}) # converting dict to list\n",
    "    # print(closeX_pts)\n",
    "\n",
    "    if not closeX_pts:\n",
    "        return new_lst\n",
    "\n",
    "    newY = int(np.mean([pts_dict[i] for i in closeX_pts])) # getting mean of y points from the closest x points\n",
    "    newX = int(np.mean(closeX_pts)) # getting mean of x points\n",
    "    for pts in closeX_pts:\n",
    "        pts_dict.pop(pts) # removing the points from the main dictionary\n",
    "    pts_dict.update({newX : newY}) # adding the new point into the dictionary\n",
    "\n",
    "    return [(k,v) for (k,v) in sorted(pts_dict.items())]\n",
    "    "
   ]
  },
  {
   "cell_type": "markdown",
   "metadata": {},
   "source": [
    "### TO SEPARATE THE ROADS"
   ]
  },
  {
   "cell_type": "code",
   "execution_count": 5,
   "metadata": {},
   "outputs": [],
   "source": [
    "def separateRoad(new_lst):\n",
    "    X = [x for (x,y) in new_lst] # getting x points from the detected points\n",
    "\n",
    "    for i, _ in enumerate(X):\n",
    "        if i != len(X) - 1 and X[i + 1] - X[i] > 275: # splitting the lines if pixel difference is > 300 pixels\n",
    "            break\n",
    "\n",
    "    road0 = removeClsPt(new_lst[0:i+1]) # making 2 separate list for 2 sides of roads\n",
    "    road1 = removeClsPt(new_lst[i+1:])\n",
    "\n",
    "    return road0, road1"
   ]
  },
  {
   "cell_type": "markdown",
   "metadata": {},
   "source": [
    "### TO FIND THE BIRD EYE VIEW OF THE ROADS LANES DETECTED"
   ]
  },
  {
   "cell_type": "code",
   "execution_count": 6,
   "metadata": {},
   "outputs": [],
   "source": [
    "def bird_view(road0, road1, img):\n",
    "    if road0 and not road1:\n",
    "        road1.append([img.shape[0], road0[-1][1]])\n",
    "        road1.append([img.shape[0], road0[0][1]])\n",
    "\n",
    "    if road1 and not road0:\n",
    "        road0.append([0, road1[-1][1]])\n",
    "        road0.append([0, road1[0][1]])\n",
    "\n",
    "    # the bottom left and bottom right are 1st point of leftRoad and last point of rightRoad respectively\n",
    "    # the top left point's x-axis from leftRoad 1st points x-axis and y-axis from leftRoad last point y-axis\n",
    "    # the top right point's x-axis from rightRoad last points x-axis and y-axis from rightRoad 1st point y-axis\n",
    "    pts1 = np.float32([ [road0[0][0], road0[-1][1]-100], [road1[-1][0], road1[0][1]-100], [road0[0][0], road0[0][1]+100], [road1[-1][0], road1[-1][1]+100] ]) # top-left, top-right, bottom-left, bottom-right ------> (x,y)\n",
    "                        \n",
    "    pts2 = np.float32([[50, 0], [350, 0], [50, 350], [350, 350]]) # projection window size\n",
    "\n",
    "    # changing perspective to get the bird-eye view\n",
    "    matrix = cv2.getPerspectiveTransform(pts1, pts2)\n",
    "    inv_matrix = cv2.getPerspectiveTransform(pts2, pts1)\n",
    "    return cv2.warpPerspective(img, matrix, (400,400))"
   ]
  },
  {
   "cell_type": "markdown",
   "metadata": {},
   "source": [
    "### TO DRAW THE EDGES ON THE LINE DETECTED AND FIND THE ANGLE OF IT FROM X-AXIS"
   ]
  },
  {
   "cell_type": "code",
   "execution_count": 7,
   "metadata": {},
   "outputs": [],
   "source": [
    "def line_and_angle(result):\n",
    "    blank_img = np.zeros((result.shape[0], result.shape[1], 3), dtype=np.uint8)\n",
    "    big = 0\n",
    "\n",
    "    hough = cv2.HoughLinesP(result, rho=6, theta=np.pi/180, threshold=127, lines=np.array([]), minLineLength=50, maxLineGap=5)\n",
    "    for line in hough:\n",
    "        for x1, y1, x2, y2 in line:\n",
    "            cv2.line(blank_img, (x1,y1), (x2,y2), (0,255,0), 1)\n",
    "            big = max(big, abs((y2 - y1)/(x2 - x1)))\n",
    "            # print((x1,y1), (x2, y2))\n",
    "\n",
    "\n",
    "    ang = math.atan(big)\n",
    "    angle.append(ang)\n",
    "    if ang < 0.7:\n",
    "        return 0\n",
    "    else:\n",
    "        return 1\n",
    "    "
   ]
  },
  {
   "cell_type": "markdown",
   "metadata": {},
   "source": [
    "### CONE DETECTION"
   ]
  },
  {
   "cell_type": "code",
   "execution_count": 8,
   "metadata": {},
   "outputs": [],
   "source": [
    "def detect(frame_img):\n",
    "    # Reading the image\n",
    "    img = cv2.resize(frame_img, (0,0), fx = 0.5, fy = 0.5)\n",
    "    # img = cv2.imread(\"road2_edited.jpg\")\n",
    "\n",
    "    # Converting the image to hsv image for better thresholdinghr\n",
    "    hsv_img = cv2.cvtColor(img, cv2.COLOR_BGR2HSV)\n",
    "\n",
    "    # Thresholding the image using BINARY THRESHOLD \n",
    "    ret, thresh = cv2.threshold(hsv_img, 190, 225, cv2.THRESH_BINARY)\n",
    "\n",
    "    # Converting the thresholded image to an grayscale\n",
    "    image = cv2.cvtColor(thresh, cv2.COLOR_HSV2BGR)\n",
    "    image = cv2.cvtColor(thresh, cv2.COLOR_BGR2GRAY)\n",
    "\n",
    "\n",
    "    # Applying Morphological operators for smoothing out the image\n",
    "    kernal = np.ones((2,2), dtype=np.uint8)\n",
    "    grad = cv2.morphologyEx(image, cv2.MORPH_OPEN, kernal, iterations=2)\n",
    "    ret, grad = cv2.threshold(grad, 190, 255, cv2.THRESH_TOZERO)\n",
    "\n",
    "\n",
    "\n",
    "    # APPLYING WATERSHED ALGORITHM\n",
    "    dist_transform = cv2.distanceTransform(grad, cv2.DIST_L2, 3)\n",
    "\n",
    "    ret, sure = cv2.threshold(dist_transform, 0.25*dist_transform.max(), 255, 0)\n",
    "\n",
    "    grad2 = cv2.morphologyEx(sure, cv2.MORPH_OPEN, kernal, iterations=1)\n",
    "\n",
    "    grad3 = cv2.dilate(grad2, kernal, iterations=3)\n",
    "\n",
    "    grad3 = np.uint8(grad3)\n",
    "\n",
    "    ret, markers = cv2.connectedComponents(grad3)\n",
    "\n",
    "    _, contours, heirarchy = cv2.findContours(grad3, cv2.RETR_LIST, cv2.CHAIN_APPROX_SIMPLE)\n",
    "\n",
    "    # By the contours detected drawing bounding boxes and finding the centriod point which is used to draw a path line\n",
    "    im = cv2.cvtColor(img.copy(), cv2.COLOR_BGR2RGB)\n",
    "    lst = []\n",
    "    for c in contours:\n",
    "        rect = cv2.boundingRect(c)\n",
    "        x,y,w,h = rect\n",
    "        cv2.rectangle(im,(x,y),(x+w,y+h),(0,255,0),2)\n",
    "        centroid = tuple( [x+(w//2), y+(h//2)] )\n",
    "        lst.append(centroid)\n",
    "        cv2.circle(im, centroid, 5, (255,0,0), -1)\n",
    "    new_lst = sorted(lst)\n",
    "    # draw(im, new_lst)\n",
    "\n",
    "    road0, road1 = separateRoad(new_lst);\n",
    "    # road = draw(img, road0, road1)\n",
    "    result = (bird_view(road0, road1, draw(img, road0, road1)));\n",
    "    ang = line_and_angle(result);\n",
    "    display(ang, img);\n",
    "\n",
    "    return img\n",
    "\n",
    "    "
   ]
  },
  {
   "cell_type": "code",
   "execution_count": 9,
   "metadata": {},
   "outputs": [],
   "source": [
    "# detect(cv2.imread(\"test0.jpg\"))"
   ]
  },
  {
   "cell_type": "code",
   "execution_count": 10,
   "metadata": {},
   "outputs": [],
   "source": [
    "cap = cv2.VideoCapture(\"Track.mp4\")\n",
    "\n",
    "width = int(cap.get((cv2.CAP_PROP_FRAME_WIDTH)))\n",
    "height = int(cap.get(cv2.CAP_PROP_FRAME_HEIGHT))\n",
    "\n",
    "writer = cv2.VideoWriter('lets_see_magic.mp4', cv2.VideoWriter_fourcc(*'DIVX'), 20.0, (width, height))\n",
    "\n",
    "if cap.isOpened == False:\n",
    "    print(\"Error!! \\n File not found or wrong CODEC used\")\n",
    "\n",
    "while cap.isOpened:\n",
    "    ret, frame = cap.read()\n",
    "    if ret != True:\n",
    "        break\n",
    "\n",
    "    try:\n",
    "        writer.write(detect(frame))\n",
    "    except:\n",
    "        pass\n",
    "\n",
    "    if cv2.waitKey(1) & 0xFF == ord('q'):\n",
    "        break\n",
    "\n",
    "cv2.destroyAllWindows()\n",
    "cap.release()\n",
    "writer.release()"
   ]
  },
  {
   "cell_type": "code",
   "execution_count": 11,
   "metadata": {},
   "outputs": [],
   "source": [
    "with open(\"angle.txt\", \"w\") as f:\n",
    "    for i,val in enumerate(angle):\n",
    "        f.write(str(i) + \",\" + str(val) + \"\\n\")"
   ]
  },
  {
   "cell_type": "code",
   "execution_count": 14,
   "metadata": {},
   "outputs": [
    {
     "data": {
      "text/plain": [
       "[<matplotlib.lines.Line2D at 0x253d3fe8588>]"
      ]
     },
     "execution_count": 14,
     "metadata": {},
     "output_type": "execute_result"
    },
    {
     "data": {
      "image/png": "[encoded data removed]",
      "text/plain": [
       "<Figure size 432x288 with 1 Axes>"
      ]
     },
     "metadata": {
      "needs_background": "light"
     },
     "output_type": "display_data"
    }
   ],
   "source": [
    "plt.plot(angle)"
   ]
  },
  {
   "cell_type": "code",
   "execution_count": 12,
   "metadata": {},
   "outputs": [
    {
     "data": {
      "text/plain": [
       "481"
      ]
     },
     "execution_count": 12,
     "metadata": {},
     "output_type": "execute_result"
    }
   ],
   "source": [
    "len(angle)"
   ]
  },
  {
   "cell_type": "code",
   "execution_count": 13,
   "metadata": {},
   "outputs": [
    {
     "name": "stdout",
     "output_type": "stream",
     "text": [
      "curve roads:  177\n",
      "straight roads:  304\n",
      "Total number of frames where cones are detected is: 481\n"
     ]
    }
   ],
   "source": [
    "print(\"curve roads: \", len([x for x in angle if x<0.7]))\n",
    "print(\"straight roads: \", len([x for x in angle if x>=0.7]))\n",
    "print(\"Total number of frames where cones are detected is:\", len(angle))"
   ]
  },
  {
   "cell_type": "code",
   "execution_count": 25,
   "metadata": {},
   "outputs": [],
   "source": [
    "cap = cv2.VideoCapture(\"Track.mp4\")\n",
    "\n",
    "\n",
    "if cap.isOpened == False:\n",
    "    print(\"Error!! \\n File not found or wrong CODEC used\")\n",
    "\n",
    "while cap.isOpened:\n",
    "    ret, frame = cap.read()\n",
    "\n",
    "    if ret != True:\n",
    "        break\n",
    "\n",
    "    try:\n",
    "        detect(frame)\n",
    "    except:\n",
    "        pass\n",
    "\n",
    "    if cv2.waitKey(1) & 0xFF == ord('q'):\n",
    "        break\n",
    "\n",
    "cv2.destroyAllWindows()\n",
    "cap.release()"
   ]
  },
  {
   "cell_type": "code",
   "execution_count": 28,
   "metadata": {},
   "outputs": [],
   "source": [
    "cap = cv2.VideoCapture(\"Track.mp4\")\n",
    "\n",
    "\n",
    "if cap.isOpened == False:\n",
    "    print(\"Error!! \\n File not found or wrong CODEC used\")\n",
    "\n",
    "while cap.isOpened:\n",
    "    ret, frame = cap.read()\n",
    "\n",
    "    if ret != True:\n",
    "        break\n",
    "\n",
    "    cv2.imshow(\"video\", frame)\n",
    "\n",
    "    if cv2.waitKey(1) & 0xFF == ord('q'):\n",
    "        break\n",
    "\n",
    "cv2.destroyAllWindows()\n",
    "cap.release()"
   ]
  },
  {
   "cell_type": "code",
   "execution_count": null,
   "metadata": {},
   "outputs": [],
   "source": []
  }
 ],
 "metadata": {
  "interpreter": {
   "hash": "3916e41ca08262cc39b19f04630fba3dbd225141bc263690a1babfba7d7cff56"
  },
  "kernelspec": {
   "display_name": "Python 3.6.13 64-bit ('python-cvcourse': conda)",
   "name": "python3"
  },
  "language_info": {
   "codemirror_mode": {
    "name": "ipython",
    "version": 3
   },
   "file_extension": ".py",
   "mimetype": "text/x-python",
   "name": "python",
   "nbconvert_exporter": "python",
   "pygments_lexer": "ipython3",
   "version": "3.6.13"
  },
  "orig_nbformat": 4
 },
 "nbformat": 4,
 "nbformat_minor": 2
}
